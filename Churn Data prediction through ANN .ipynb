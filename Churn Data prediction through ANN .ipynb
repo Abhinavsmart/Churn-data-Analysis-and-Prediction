{
 "cells": [
  {
   "cell_type": "code",
   "execution_count": 3,
   "metadata": {},
   "outputs": [],
   "source": [
    "import keras\n",
    "import numpy as np\n",
    "import pandas as pd \n",
    "import seaborn as sns\n",
    "import matplotlib.pyplot as plt"
   ]
  },
  {
   "cell_type": "code",
   "execution_count": 16,
   "metadata": {},
   "outputs": [
    {
     "data": {
      "text/html": [
       "<div>\n",
       "<style scoped>\n",
       "    .dataframe tbody tr th:only-of-type {\n",
       "        vertical-align: middle;\n",
       "    }\n",
       "\n",
       "    .dataframe tbody tr th {\n",
       "        vertical-align: top;\n",
       "    }\n",
       "\n",
       "    .dataframe thead th {\n",
       "        text-align: right;\n",
       "    }\n",
       "</style>\n",
       "<table border=\"1\" class=\"dataframe\">\n",
       "  <thead>\n",
       "    <tr style=\"text-align: right;\">\n",
       "      <th></th>\n",
       "      <th>RowNumber</th>\n",
       "      <th>CustomerId</th>\n",
       "      <th>Surname</th>\n",
       "      <th>CreditScore</th>\n",
       "      <th>Geography</th>\n",
       "      <th>Gender</th>\n",
       "      <th>Age</th>\n",
       "      <th>Tenure</th>\n",
       "      <th>Balance</th>\n",
       "      <th>NumOfProducts</th>\n",
       "      <th>HasCrCard</th>\n",
       "      <th>IsActiveMember</th>\n",
       "      <th>EstimatedSalary</th>\n",
       "      <th>Exited</th>\n",
       "    </tr>\n",
       "  </thead>\n",
       "  <tbody>\n",
       "    <tr>\n",
       "      <td>0</td>\n",
       "      <td>1</td>\n",
       "      <td>15634602</td>\n",
       "      <td>Hargrave</td>\n",
       "      <td>619</td>\n",
       "      <td>France</td>\n",
       "      <td>Female</td>\n",
       "      <td>42</td>\n",
       "      <td>2</td>\n",
       "      <td>0.00</td>\n",
       "      <td>1</td>\n",
       "      <td>1</td>\n",
       "      <td>1</td>\n",
       "      <td>101348.88</td>\n",
       "      <td>1</td>\n",
       "    </tr>\n",
       "    <tr>\n",
       "      <td>1</td>\n",
       "      <td>2</td>\n",
       "      <td>15647311</td>\n",
       "      <td>Hill</td>\n",
       "      <td>608</td>\n",
       "      <td>Spain</td>\n",
       "      <td>Female</td>\n",
       "      <td>41</td>\n",
       "      <td>1</td>\n",
       "      <td>83807.86</td>\n",
       "      <td>1</td>\n",
       "      <td>0</td>\n",
       "      <td>1</td>\n",
       "      <td>112542.58</td>\n",
       "      <td>0</td>\n",
       "    </tr>\n",
       "    <tr>\n",
       "      <td>2</td>\n",
       "      <td>3</td>\n",
       "      <td>15619304</td>\n",
       "      <td>Onio</td>\n",
       "      <td>502</td>\n",
       "      <td>France</td>\n",
       "      <td>Female</td>\n",
       "      <td>42</td>\n",
       "      <td>8</td>\n",
       "      <td>159660.80</td>\n",
       "      <td>3</td>\n",
       "      <td>1</td>\n",
       "      <td>0</td>\n",
       "      <td>113931.57</td>\n",
       "      <td>1</td>\n",
       "    </tr>\n",
       "    <tr>\n",
       "      <td>3</td>\n",
       "      <td>4</td>\n",
       "      <td>15701354</td>\n",
       "      <td>Boni</td>\n",
       "      <td>699</td>\n",
       "      <td>France</td>\n",
       "      <td>Female</td>\n",
       "      <td>39</td>\n",
       "      <td>1</td>\n",
       "      <td>0.00</td>\n",
       "      <td>2</td>\n",
       "      <td>0</td>\n",
       "      <td>0</td>\n",
       "      <td>93826.63</td>\n",
       "      <td>0</td>\n",
       "    </tr>\n",
       "    <tr>\n",
       "      <td>4</td>\n",
       "      <td>5</td>\n",
       "      <td>15737888</td>\n",
       "      <td>Mitchell</td>\n",
       "      <td>850</td>\n",
       "      <td>Spain</td>\n",
       "      <td>Female</td>\n",
       "      <td>43</td>\n",
       "      <td>2</td>\n",
       "      <td>125510.82</td>\n",
       "      <td>1</td>\n",
       "      <td>1</td>\n",
       "      <td>1</td>\n",
       "      <td>79084.10</td>\n",
       "      <td>0</td>\n",
       "    </tr>\n",
       "    <tr>\n",
       "      <td>...</td>\n",
       "      <td>...</td>\n",
       "      <td>...</td>\n",
       "      <td>...</td>\n",
       "      <td>...</td>\n",
       "      <td>...</td>\n",
       "      <td>...</td>\n",
       "      <td>...</td>\n",
       "      <td>...</td>\n",
       "      <td>...</td>\n",
       "      <td>...</td>\n",
       "      <td>...</td>\n",
       "      <td>...</td>\n",
       "      <td>...</td>\n",
       "      <td>...</td>\n",
       "    </tr>\n",
       "    <tr>\n",
       "      <td>9995</td>\n",
       "      <td>9996</td>\n",
       "      <td>15606229</td>\n",
       "      <td>Obijiaku</td>\n",
       "      <td>771</td>\n",
       "      <td>France</td>\n",
       "      <td>Male</td>\n",
       "      <td>39</td>\n",
       "      <td>5</td>\n",
       "      <td>0.00</td>\n",
       "      <td>2</td>\n",
       "      <td>1</td>\n",
       "      <td>0</td>\n",
       "      <td>96270.64</td>\n",
       "      <td>0</td>\n",
       "    </tr>\n",
       "    <tr>\n",
       "      <td>9996</td>\n",
       "      <td>9997</td>\n",
       "      <td>15569892</td>\n",
       "      <td>Johnstone</td>\n",
       "      <td>516</td>\n",
       "      <td>France</td>\n",
       "      <td>Male</td>\n",
       "      <td>35</td>\n",
       "      <td>10</td>\n",
       "      <td>57369.61</td>\n",
       "      <td>1</td>\n",
       "      <td>1</td>\n",
       "      <td>1</td>\n",
       "      <td>101699.77</td>\n",
       "      <td>0</td>\n",
       "    </tr>\n",
       "    <tr>\n",
       "      <td>9997</td>\n",
       "      <td>9998</td>\n",
       "      <td>15584532</td>\n",
       "      <td>Liu</td>\n",
       "      <td>709</td>\n",
       "      <td>France</td>\n",
       "      <td>Female</td>\n",
       "      <td>36</td>\n",
       "      <td>7</td>\n",
       "      <td>0.00</td>\n",
       "      <td>1</td>\n",
       "      <td>0</td>\n",
       "      <td>1</td>\n",
       "      <td>42085.58</td>\n",
       "      <td>1</td>\n",
       "    </tr>\n",
       "    <tr>\n",
       "      <td>9998</td>\n",
       "      <td>9999</td>\n",
       "      <td>15682355</td>\n",
       "      <td>Sabbatini</td>\n",
       "      <td>772</td>\n",
       "      <td>Germany</td>\n",
       "      <td>Male</td>\n",
       "      <td>42</td>\n",
       "      <td>3</td>\n",
       "      <td>75075.31</td>\n",
       "      <td>2</td>\n",
       "      <td>1</td>\n",
       "      <td>0</td>\n",
       "      <td>92888.52</td>\n",
       "      <td>1</td>\n",
       "    </tr>\n",
       "    <tr>\n",
       "      <td>9999</td>\n",
       "      <td>10000</td>\n",
       "      <td>15628319</td>\n",
       "      <td>Walker</td>\n",
       "      <td>792</td>\n",
       "      <td>France</td>\n",
       "      <td>Female</td>\n",
       "      <td>28</td>\n",
       "      <td>4</td>\n",
       "      <td>130142.79</td>\n",
       "      <td>1</td>\n",
       "      <td>1</td>\n",
       "      <td>0</td>\n",
       "      <td>38190.78</td>\n",
       "      <td>0</td>\n",
       "    </tr>\n",
       "  </tbody>\n",
       "</table>\n",
       "<p>10000 rows × 14 columns</p>\n",
       "</div>"
      ],
      "text/plain": [
       "      RowNumber  CustomerId    Surname  CreditScore Geography  Gender  Age  \\\n",
       "0             1    15634602   Hargrave          619    France  Female   42   \n",
       "1             2    15647311       Hill          608     Spain  Female   41   \n",
       "2             3    15619304       Onio          502    France  Female   42   \n",
       "3             4    15701354       Boni          699    France  Female   39   \n",
       "4             5    15737888   Mitchell          850     Spain  Female   43   \n",
       "...         ...         ...        ...          ...       ...     ...  ...   \n",
       "9995       9996    15606229   Obijiaku          771    France    Male   39   \n",
       "9996       9997    15569892  Johnstone          516    France    Male   35   \n",
       "9997       9998    15584532        Liu          709    France  Female   36   \n",
       "9998       9999    15682355  Sabbatini          772   Germany    Male   42   \n",
       "9999      10000    15628319     Walker          792    France  Female   28   \n",
       "\n",
       "      Tenure    Balance  NumOfProducts  HasCrCard  IsActiveMember  \\\n",
       "0          2       0.00              1          1               1   \n",
       "1          1   83807.86              1          0               1   \n",
       "2          8  159660.80              3          1               0   \n",
       "3          1       0.00              2          0               0   \n",
       "4          2  125510.82              1          1               1   \n",
       "...      ...        ...            ...        ...             ...   \n",
       "9995       5       0.00              2          1               0   \n",
       "9996      10   57369.61              1          1               1   \n",
       "9997       7       0.00              1          0               1   \n",
       "9998       3   75075.31              2          1               0   \n",
       "9999       4  130142.79              1          1               0   \n",
       "\n",
       "      EstimatedSalary  Exited  \n",
       "0           101348.88       1  \n",
       "1           112542.58       0  \n",
       "2           113931.57       1  \n",
       "3            93826.63       0  \n",
       "4            79084.10       0  \n",
       "...               ...     ...  \n",
       "9995         96270.64       0  \n",
       "9996        101699.77       0  \n",
       "9997         42085.58       1  \n",
       "9998         92888.52       1  \n",
       "9999         38190.78       0  \n",
       "\n",
       "[10000 rows x 14 columns]"
      ]
     },
     "execution_count": 16,
     "metadata": {},
     "output_type": "execute_result"
    }
   ],
   "source": [
    "df=pd.read_csv(\"D:/CHROME DOWNLOADS/Churn_Modelling.csv\")\n",
    "df"
   ]
  },
  {
   "cell_type": "code",
   "execution_count": 17,
   "metadata": {},
   "outputs": [],
   "source": [
    "X=df.iloc[:, 3:13]\n",
    "y=df.iloc[:, 13]"
   ]
  },
  {
   "cell_type": "code",
   "execution_count": 18,
   "metadata": {},
   "outputs": [],
   "source": [
    "geography= pd.get_dummies(X[\"Geography\"], drop_first=True)\n",
    "gender= pd.get_dummies(X[\"Gender\"], drop_first= True)"
   ]
  },
  {
   "cell_type": "code",
   "execution_count": 19,
   "metadata": {},
   "outputs": [],
   "source": [
    "X= pd.concat([X, geography, gender], axis=1)"
   ]
  },
  {
   "cell_type": "code",
   "execution_count": 21,
   "metadata": {},
   "outputs": [],
   "source": [
    "X= X.drop(['Geography',\"Gender\"], axis=1)"
   ]
  },
  {
   "cell_type": "code",
   "execution_count": 22,
   "metadata": {},
   "outputs": [],
   "source": [
    "from sklearn.model_selection import train_test_split\n",
    "X_train, X_test, y_train, y_test= train_test_split(X,y, test_size=0.3, random_state=42)"
   ]
  },
  {
   "cell_type": "code",
   "execution_count": 27,
   "metadata": {},
   "outputs": [],
   "source": [
    "from sklearn.preprocessing import RobustScaler\n",
    "Rs= RobustScaler()\n",
    "X_train= Rs.fit_transform(X_train)\n",
    "X_test= Rs.transform(X_test)"
   ]
  },
  {
   "cell_type": "code",
   "execution_count": 28,
   "metadata": {},
   "outputs": [],
   "source": [
    "from keras.models import Sequential\n",
    "from keras.layers import Dense\n",
    "from keras.layers import Dropout"
   ]
  },
  {
   "cell_type": "code",
   "execution_count": 34,
   "metadata": {},
   "outputs": [],
   "source": [
    "model= Sequential()\n",
    "model.add(Dense(units = 7 , kernel_initializer= \"he_uniform\", activation=\"relu\", input_dim=11))\n",
    "model.add(Dense(units = 7 , kernel_initializer= \"he_uniform\", activation=\"relu\"))\n",
    "model.add(Dense(units = 1 , kernel_initializer= \"glorot_uniform\", activation=\"sigmoid\"))\n",
    "model.compile(optimizer=\"Adamax\", loss= \"binary_crossentropy\", metrics= [\"accuracy\"])\n"
   ]
  },
  {
   "cell_type": "code",
   "execution_count": 40,
   "metadata": {},
   "outputs": [
    {
     "name": "stdout",
     "output_type": "stream",
     "text": [
      "Epoch 1/100\n",
      "560/560 [==============================] - 16s 2ms/step - loss: 0.6540 - accuracy: 0.6469 - val_loss: 0.5598 - val_accuracy: 0.7943\n",
      "Epoch 2/100\n",
      "560/560 [==============================] - 1s 1ms/step - loss: 0.5531 - accuracy: 0.7878 - val_loss: 0.5137 - val_accuracy: 0.7943\n",
      "Epoch 3/100\n",
      "560/560 [==============================] - 1s 1ms/step - loss: 0.5115 - accuracy: 0.7868 - val_loss: 0.4865 - val_accuracy: 0.7950\n",
      "Epoch 4/100\n",
      "560/560 [==============================] - 1s 1ms/step - loss: 0.4873 - accuracy: 0.7924 - val_loss: 0.4680 - val_accuracy: 0.8007\n",
      "Epoch 5/100\n",
      "560/560 [==============================] - 1s 1ms/step - loss: 0.4598 - accuracy: 0.8045 - val_loss: 0.4564 - val_accuracy: 0.7957\n",
      "Epoch 6/100\n",
      "560/560 [==============================] - 1s 1ms/step - loss: 0.4599 - accuracy: 0.7926 - val_loss: 0.4490 - val_accuracy: 0.7979\n",
      "Epoch 7/100\n",
      "560/560 [==============================] - 1s 1ms/step - loss: 0.4599 - accuracy: 0.7912 - val_loss: 0.4439 - val_accuracy: 0.8014\n",
      "Epoch 8/100\n",
      "560/560 [==============================] - 1s 1ms/step - loss: 0.4432 - accuracy: 0.7985 - val_loss: 0.4402 - val_accuracy: 0.7993\n",
      "Epoch 9/100\n",
      "560/560 [==============================] - 1s 1ms/step - loss: 0.4411 - accuracy: 0.8047 - val_loss: 0.4379 - val_accuracy: 0.8007\n",
      "Epoch 10/100\n",
      "560/560 [==============================] - 1s 1ms/step - loss: 0.4359 - accuracy: 0.8023 - val_loss: 0.4357 - val_accuracy: 0.8007\n",
      "Epoch 11/100\n",
      "560/560 [==============================] - 1s 1ms/step - loss: 0.4358 - accuracy: 0.8017 - val_loss: 0.4340 - val_accuracy: 0.8021\n",
      "Epoch 12/100\n",
      "560/560 [==============================] - 1s 1ms/step - loss: 0.4397 - accuracy: 0.8021 - val_loss: 0.4328 - val_accuracy: 0.8050\n",
      "Epoch 13/100\n",
      "560/560 [==============================] - 1s 1ms/step - loss: 0.4261 - accuracy: 0.8056 - val_loss: 0.4311 - val_accuracy: 0.8079\n",
      "Epoch 14/100\n",
      "560/560 [==============================] - 1s 1ms/step - loss: 0.4398 - accuracy: 0.8004 - val_loss: 0.4302 - val_accuracy: 0.8064\n",
      "Epoch 15/100\n",
      "560/560 [==============================] - 1s 1ms/step - loss: 0.4361 - accuracy: 0.8021 - val_loss: 0.4292 - val_accuracy: 0.8086\n",
      "Epoch 16/100\n",
      "560/560 [==============================] - 1s 1ms/step - loss: 0.4241 - accuracy: 0.8124 - val_loss: 0.4284 - val_accuracy: 0.8093\n",
      "Epoch 17/100\n",
      "560/560 [==============================] - 1s 2ms/step - loss: 0.4288 - accuracy: 0.8108 - val_loss: 0.4276 - val_accuracy: 0.8100\n",
      "Epoch 18/100\n",
      "560/560 [==============================] - 1s 3ms/step - loss: 0.4292 - accuracy: 0.8076 - val_loss: 0.4266 - val_accuracy: 0.8100\n",
      "Epoch 19/100\n",
      "560/560 [==============================] - 1s 2ms/step - loss: 0.4425 - accuracy: 0.8062 - val_loss: 0.4262 - val_accuracy: 0.8129\n",
      "Epoch 20/100\n",
      "560/560 [==============================] - 1s 1ms/step - loss: 0.4314 - accuracy: 0.8114 - val_loss: 0.4256 - val_accuracy: 0.8129\n",
      "Epoch 21/100\n",
      "560/560 [==============================] - 1s 1ms/step - loss: 0.4309 - accuracy: 0.8112 - val_loss: 0.4248 - val_accuracy: 0.8136\n",
      "Epoch 22/100\n",
      "560/560 [==============================] - 2s 3ms/step - loss: 0.4149 - accuracy: 0.8223 - val_loss: 0.4237 - val_accuracy: 0.8150\n",
      "Epoch 23/100\n",
      "560/560 [==============================] - 1s 1ms/step - loss: 0.4255 - accuracy: 0.8179 - val_loss: 0.4249 - val_accuracy: 0.8136\n",
      "Epoch 24/100\n",
      "560/560 [==============================] - 1s 2ms/step - loss: 0.4282 - accuracy: 0.8199 - val_loss: 0.4225 - val_accuracy: 0.8179\n",
      "Epoch 25/100\n",
      "560/560 [==============================] - 1s 2ms/step - loss: 0.4397 - accuracy: 0.8119 - val_loss: 0.4221 - val_accuracy: 0.8179\n",
      "Epoch 26/100\n",
      "560/560 [==============================] - 1s 1ms/step - loss: 0.4164 - accuracy: 0.8229 - val_loss: 0.4212 - val_accuracy: 0.8229\n",
      "Epoch 27/100\n",
      "560/560 [==============================] - 1s 1ms/step - loss: 0.4302 - accuracy: 0.8144 - val_loss: 0.4201 - val_accuracy: 0.8264\n",
      "Epoch 28/100\n",
      "560/560 [==============================] - 1s 1ms/step - loss: 0.4174 - accuracy: 0.8215 - val_loss: 0.4200 - val_accuracy: 0.8243\n",
      "Epoch 29/100\n",
      "560/560 [==============================] - 1s 1ms/step - loss: 0.4323 - accuracy: 0.8175 - val_loss: 0.4193 - val_accuracy: 0.8271\n",
      "Epoch 30/100\n",
      "560/560 [==============================] - 1s 1ms/step - loss: 0.4083 - accuracy: 0.8267 - val_loss: 0.4181 - val_accuracy: 0.8286\n",
      "Epoch 31/100\n",
      "560/560 [==============================] - 1s 1ms/step - loss: 0.4225 - accuracy: 0.8225 - val_loss: 0.4181 - val_accuracy: 0.8286\n",
      "Epoch 32/100\n",
      "560/560 [==============================] - 1s 2ms/step - loss: 0.4126 - accuracy: 0.8269 - val_loss: 0.4170 - val_accuracy: 0.8286\n",
      "Epoch 33/100\n",
      "560/560 [==============================] - 1s 2ms/step - loss: 0.4070 - accuracy: 0.8338 - val_loss: 0.4165 - val_accuracy: 0.8286\n",
      "Epoch 34/100\n",
      "560/560 [==============================] - 1s 1ms/step - loss: 0.4149 - accuracy: 0.8277 - val_loss: 0.4162 - val_accuracy: 0.8279\n",
      "Epoch 35/100\n",
      "560/560 [==============================] - 1s 1ms/step - loss: 0.4156 - accuracy: 0.8237 - val_loss: 0.4160 - val_accuracy: 0.8264\n",
      "Epoch 36/100\n",
      "560/560 [==============================] - 1s 1ms/step - loss: 0.4213 - accuracy: 0.8264 - val_loss: 0.4168 - val_accuracy: 0.8264\n",
      "Epoch 37/100\n",
      "560/560 [==============================] - 1s 1ms/step - loss: 0.4145 - accuracy: 0.8299 - val_loss: 0.4160 - val_accuracy: 0.8271\n",
      "Epoch 38/100\n",
      "560/560 [==============================] - 1s 1ms/step - loss: 0.4149 - accuracy: 0.8307 - val_loss: 0.4160 - val_accuracy: 0.8271\n",
      "Epoch 39/100\n",
      "560/560 [==============================] - 1s 1ms/step - loss: 0.4004 - accuracy: 0.8331 - val_loss: 0.4154 - val_accuracy: 0.8271\n",
      "Epoch 40/100\n",
      "560/560 [==============================] - 1s 3ms/step - loss: 0.4082 - accuracy: 0.8303 - val_loss: 0.4147 - val_accuracy: 0.8286\n",
      "Epoch 41/100\n",
      "560/560 [==============================] - 1s 2ms/step - loss: 0.4072 - accuracy: 0.8310 - val_loss: 0.4148 - val_accuracy: 0.8293\n",
      "Epoch 42/100\n",
      "560/560 [==============================] - 1s 2ms/step - loss: 0.3998 - accuracy: 0.8355 - val_loss: 0.4142 - val_accuracy: 0.8286\n",
      "Epoch 43/100\n",
      "560/560 [==============================] - 1s 1ms/step - loss: 0.4168 - accuracy: 0.8263 - val_loss: 0.4138 - val_accuracy: 0.8293\n",
      "Epoch 44/100\n",
      "560/560 [==============================] - 1s 2ms/step - loss: 0.4157 - accuracy: 0.8291 - val_loss: 0.4146 - val_accuracy: 0.8293\n",
      "Epoch 45/100\n",
      "560/560 [==============================] - 1s 2ms/step - loss: 0.4049 - accuracy: 0.8328 - val_loss: 0.4129 - val_accuracy: 0.8300\n",
      "Epoch 46/100\n",
      "560/560 [==============================] - 1s 2ms/step - loss: 0.4020 - accuracy: 0.8293 - val_loss: 0.4124 - val_accuracy: 0.8293\n",
      "Epoch 47/100\n",
      "560/560 [==============================] - 1s 2ms/step - loss: 0.3927 - accuracy: 0.8370 - val_loss: 0.4117 - val_accuracy: 0.8300\n",
      "Epoch 48/100\n",
      "560/560 [==============================] - 1s 2ms/step - loss: 0.3934 - accuracy: 0.8370 - val_loss: 0.4109 - val_accuracy: 0.8321\n",
      "Epoch 49/100\n",
      "560/560 [==============================] - 1s 1ms/step - loss: 0.4162 - accuracy: 0.8281 - val_loss: 0.4103 - val_accuracy: 0.8307\n",
      "Epoch 50/100\n",
      "560/560 [==============================] - 1s 2ms/step - loss: 0.4120 - accuracy: 0.8278 - val_loss: 0.4097 - val_accuracy: 0.8329\n",
      "Epoch 51/100\n",
      "560/560 [==============================] - 1s 2ms/step - loss: 0.3975 - accuracy: 0.8366 - val_loss: 0.4088 - val_accuracy: 0.8307\n",
      "Epoch 52/100\n",
      "560/560 [==============================] - 1s 2ms/step - loss: 0.3992 - accuracy: 0.8363 - val_loss: 0.4082 - val_accuracy: 0.8293\n",
      "Epoch 53/100\n",
      "560/560 [==============================] - 1s 2ms/step - loss: 0.4085 - accuracy: 0.8278 - val_loss: 0.4085 - val_accuracy: 0.8307\n",
      "Epoch 54/100\n",
      "560/560 [==============================] - 1s 2ms/step - loss: 0.3904 - accuracy: 0.8406 - val_loss: 0.4065 - val_accuracy: 0.8314\n",
      "Epoch 55/100\n",
      "560/560 [==============================] - 1s 1ms/step - loss: 0.4012 - accuracy: 0.8311 - val_loss: 0.4058 - val_accuracy: 0.8314\n",
      "Epoch 56/100\n",
      "560/560 [==============================] - 1s 2ms/step - loss: 0.4015 - accuracy: 0.8325 - val_loss: 0.4054 - val_accuracy: 0.8300\n",
      "Epoch 57/100\n",
      "560/560 [==============================] - 1s 2ms/step - loss: 0.4116 - accuracy: 0.8285 - val_loss: 0.4050 - val_accuracy: 0.8314\n"
     ]
    },
    {
     "name": "stdout",
     "output_type": "stream",
     "text": [
      "Epoch 58/100\n",
      "560/560 [==============================] - 1s 2ms/step - loss: 0.3878 - accuracy: 0.8370 - val_loss: 0.4040 - val_accuracy: 0.8321\n",
      "Epoch 59/100\n",
      "560/560 [==============================] - 1s 2ms/step - loss: 0.3916 - accuracy: 0.8391 - val_loss: 0.4028 - val_accuracy: 0.8307\n",
      "Epoch 60/100\n",
      "560/560 [==============================] - 1s 2ms/step - loss: 0.4032 - accuracy: 0.8330 - val_loss: 0.4028 - val_accuracy: 0.8329\n",
      "Epoch 61/100\n",
      "560/560 [==============================] - 1s 2ms/step - loss: 0.3918 - accuracy: 0.8358 - val_loss: 0.4026 - val_accuracy: 0.8350\n",
      "Epoch 62/100\n",
      "560/560 [==============================] - 1s 1ms/step - loss: 0.3849 - accuracy: 0.8401 - val_loss: 0.4011 - val_accuracy: 0.8336\n",
      "Epoch 63/100\n",
      "560/560 [==============================] - 1s 1ms/step - loss: 0.3971 - accuracy: 0.8354 - val_loss: 0.4006 - val_accuracy: 0.8336\n",
      "Epoch 64/100\n",
      "560/560 [==============================] - 1s 2ms/step - loss: 0.3848 - accuracy: 0.8371 - val_loss: 0.3989 - val_accuracy: 0.8314\n",
      "Epoch 65/100\n",
      "560/560 [==============================] - 1s 2ms/step - loss: 0.3921 - accuracy: 0.8331 - val_loss: 0.3990 - val_accuracy: 0.8350\n",
      "Epoch 66/100\n",
      "560/560 [==============================] - 1s 2ms/step - loss: 0.3921 - accuracy: 0.8454 - val_loss: 0.3967 - val_accuracy: 0.8321\n",
      "Epoch 67/100\n",
      "560/560 [==============================] - 1s 2ms/step - loss: 0.3937 - accuracy: 0.8354 - val_loss: 0.3961 - val_accuracy: 0.8343\n",
      "Epoch 68/100\n",
      "560/560 [==============================] - 1s 1ms/step - loss: 0.3993 - accuracy: 0.8386 - val_loss: 0.3950 - val_accuracy: 0.8350\n",
      "Epoch 69/100\n",
      "560/560 [==============================] - 1s 1ms/step - loss: 0.3827 - accuracy: 0.8386 - val_loss: 0.3936 - val_accuracy: 0.8329\n",
      "Epoch 70/100\n",
      "560/560 [==============================] - 1s 2ms/step - loss: 0.3822 - accuracy: 0.8419 - val_loss: 0.3926 - val_accuracy: 0.8350\n",
      "Epoch 71/100\n",
      "560/560 [==============================] - 1s 2ms/step - loss: 0.3780 - accuracy: 0.8432 - val_loss: 0.3922 - val_accuracy: 0.8386\n",
      "Epoch 72/100\n",
      "560/560 [==============================] - 1s 2ms/step - loss: 0.3895 - accuracy: 0.8370 - val_loss: 0.3914 - val_accuracy: 0.8386\n",
      "Epoch 73/100\n",
      "560/560 [==============================] - 1s 2ms/step - loss: 0.3779 - accuracy: 0.8394 - val_loss: 0.3901 - val_accuracy: 0.8364\n",
      "Epoch 74/100\n",
      "560/560 [==============================] - 1s 2ms/step - loss: 0.3733 - accuracy: 0.8493 - val_loss: 0.3896 - val_accuracy: 0.8371\n",
      "Epoch 75/100\n",
      "560/560 [==============================] - 1s 2ms/step - loss: 0.3854 - accuracy: 0.8377 - val_loss: 0.3877 - val_accuracy: 0.8357\n",
      "Epoch 76/100\n",
      "560/560 [==============================] - 1s 1ms/step - loss: 0.3780 - accuracy: 0.8414 - val_loss: 0.3861 - val_accuracy: 0.8357\n",
      "Epoch 77/100\n",
      "560/560 [==============================] - 1s 2ms/step - loss: 0.3721 - accuracy: 0.8433 - val_loss: 0.3860 - val_accuracy: 0.8371\n",
      "Epoch 78/100\n",
      "560/560 [==============================] - 1s 2ms/step - loss: 0.3758 - accuracy: 0.8418 - val_loss: 0.3842 - val_accuracy: 0.8371\n",
      "Epoch 79/100\n",
      "560/560 [==============================] - 1s 2ms/step - loss: 0.3758 - accuracy: 0.8462 - val_loss: 0.3846 - val_accuracy: 0.8379\n",
      "Epoch 80/100\n",
      "560/560 [==============================] - 1s 2ms/step - loss: 0.3720 - accuracy: 0.8465 - val_loss: 0.3828 - val_accuracy: 0.8371\n",
      "Epoch 81/100\n",
      "560/560 [==============================] - 1s 2ms/step - loss: 0.3799 - accuracy: 0.8441 - val_loss: 0.3820 - val_accuracy: 0.8364\n",
      "Epoch 82/100\n",
      "560/560 [==============================] - 1s 1ms/step - loss: 0.3800 - accuracy: 0.8415 - val_loss: 0.3824 - val_accuracy: 0.8393\n",
      "Epoch 83/100\n",
      "560/560 [==============================] - 1s 1ms/step - loss: 0.3836 - accuracy: 0.8432 - val_loss: 0.3800 - val_accuracy: 0.8386\n",
      "Epoch 84/100\n",
      "560/560 [==============================] - 1s 1ms/step - loss: 0.3663 - accuracy: 0.8491 - val_loss: 0.3792 - val_accuracy: 0.8400\n",
      "Epoch 85/100\n",
      "560/560 [==============================] - 1s 2ms/step - loss: 0.3793 - accuracy: 0.8404 - val_loss: 0.3807 - val_accuracy: 0.8414\n",
      "Epoch 86/100\n",
      "560/560 [==============================] - 1s 2ms/step - loss: 0.3654 - accuracy: 0.8505 - val_loss: 0.3782 - val_accuracy: 0.8386\n",
      "Epoch 87/100\n",
      "560/560 [==============================] - 1s 1ms/step - loss: 0.3724 - accuracy: 0.8452 - val_loss: 0.3773 - val_accuracy: 0.8386\n",
      "Epoch 88/100\n",
      "560/560 [==============================] - 1s 2ms/step - loss: 0.3699 - accuracy: 0.8462 - val_loss: 0.3771 - val_accuracy: 0.8407\n",
      "Epoch 89/100\n",
      "560/560 [==============================] - 1s 2ms/step - loss: 0.3603 - accuracy: 0.8555 - val_loss: 0.3757 - val_accuracy: 0.8386\n",
      "Epoch 90/100\n",
      "560/560 [==============================] - 1s 2ms/step - loss: 0.3577 - accuracy: 0.8519 - val_loss: 0.3748 - val_accuracy: 0.8407\n",
      "Epoch 91/100\n",
      "560/560 [==============================] - 1s 1ms/step - loss: 0.3684 - accuracy: 0.8453 - val_loss: 0.3754 - val_accuracy: 0.8421\n",
      "Epoch 92/100\n",
      "560/560 [==============================] - 1s 1ms/step - loss: 0.3698 - accuracy: 0.8477 - val_loss: 0.3740 - val_accuracy: 0.8400\n",
      "Epoch 93/100\n",
      "560/560 [==============================] - 1s 1ms/step - loss: 0.3715 - accuracy: 0.8495 - val_loss: 0.3760 - val_accuracy: 0.8436\n",
      "Epoch 94/100\n",
      "560/560 [==============================] - 1s 1ms/step - loss: 0.3585 - accuracy: 0.8516 - val_loss: 0.3728 - val_accuracy: 0.8400\n",
      "Epoch 95/100\n",
      "560/560 [==============================] - 1s 2ms/step - loss: 0.3718 - accuracy: 0.8449 - val_loss: 0.3718 - val_accuracy: 0.8393\n",
      "Epoch 96/100\n",
      "560/560 [==============================] - 1s 2ms/step - loss: 0.3659 - accuracy: 0.8445 - val_loss: 0.3713 - val_accuracy: 0.8400\n",
      "Epoch 97/100\n",
      "560/560 [==============================] - 1s 2ms/step - loss: 0.3804 - accuracy: 0.8408 - val_loss: 0.3729 - val_accuracy: 0.8443\n",
      "Epoch 98/100\n",
      "560/560 [==============================] - 1s 1ms/step - loss: 0.3689 - accuracy: 0.8470 - val_loss: 0.3715 - val_accuracy: 0.8443\n",
      "Epoch 99/100\n",
      "560/560 [==============================] - 1s 2ms/step - loss: 0.3496 - accuracy: 0.8563 - val_loss: 0.3706 - val_accuracy: 0.8429\n",
      "Epoch 100/100\n",
      "560/560 [==============================] - 1s 1ms/step - loss: 0.3569 - accuracy: 0.8486 - val_loss: 0.3706 - val_accuracy: 0.8450\n"
     ]
    }
   ],
   "source": [
    "model_history= model.fit(X_train, y_train, validation_split=0.2, batch_size=10, epochs= 100 )"
   ]
  },
  {
   "cell_type": "code",
   "execution_count": 42,
   "metadata": {},
   "outputs": [
    {
     "name": "stdout",
     "output_type": "stream",
     "text": [
      "dict_keys(['loss', 'accuracy', 'val_loss', 'val_accuracy'])\n"
     ]
    }
   ],
   "source": [
    "print( model_history.history.keys())"
   ]
  },
  {
   "cell_type": "code",
   "execution_count": 44,
   "metadata": {},
   "outputs": [
    {
     "data": {
      "text/plain": [
       "[<matplotlib.lines.Line2D at 0x2080990e5c8>]"
      ]
     },
     "execution_count": 44,
     "metadata": {},
     "output_type": "execute_result"
    },
    {
     "data": {
      "image/png": "[encoded data removed]",
      "text/plain": [
       "<Figure size 432x288 with 1 Axes>"
      ]
     },
     "metadata": {
      "needs_background": "light"
     },
     "output_type": "display_data"
    }
   ],
   "source": [
    "plt.plot(model_history.history['accuracy'])"
   ]
  },
  {
   "cell_type": "code",
   "execution_count": 45,
   "metadata": {},
   "outputs": [
    {
     "data": {
      "text/plain": [
       "[<matplotlib.lines.Line2D at 0x2080a12c408>]"
      ]
     },
     "execution_count": 45,
     "metadata": {},
     "output_type": "execute_result"
    },
    {
     "data": {
      "image/png": "[encoded data removed]",
      "text/plain": [
       "<Figure size 432x288 with 1 Axes>"
      ]
     },
     "metadata": {
      "needs_background": "light"
     },
     "output_type": "display_data"
    }
   ],
   "source": [
    "plt.plot(model_history.history['val_accuracy'])"
   ]
  },
  {
   "cell_type": "code",
   "execution_count": 48,
   "metadata": {},
   "outputs": [
    {
     "data": {
      "image/png": "[encoded data removed]",
      "text/plain": [
       "<Figure size 432x288 with 1 Axes>"
      ]
     },
     "metadata": {
      "needs_background": "light"
     },
     "output_type": "display_data"
    }
   ],
   "source": [
    "plt.plot(model_history.history['accuracy'])\n",
    "plt.plot(model_history.history['val_accuracy'])\n",
    "plt.title(\"model loss\")\n",
    "plt.ylabel(\"loss\")\n",
    "plt.xlabel(\"epoch\")\n",
    "plt.legend(['train','test'], loc='lower right')\n",
    "plt.show()"
   ]
  },
  {
   "cell_type": "code",
   "execution_count": 49,
   "metadata": {},
   "outputs": [],
   "source": [
    "y_pred= model.predict(X_test)\n",
    "y_pred= (y_pred>0.5)"
   ]
  },
  {
   "cell_type": "code",
   "execution_count": 51,
   "metadata": {},
   "outputs": [
    {
     "data": {
      "text/plain": [
       "array([[2351,   65],\n",
       "       [ 345,  239]], dtype=int64)"
      ]
     },
     "execution_count": 51,
     "metadata": {},
     "output_type": "execute_result"
    }
   ],
   "source": [
    "from sklearn.metrics import confusion_matrix\n",
    "cmat= confusion_matrix(y_test, y_pred)\n",
    "cmat"
   ]
  },
  {
   "cell_type": "code",
   "execution_count": 52,
   "metadata": {},
   "outputs": [
    {
     "data": {
      "text/plain": [
       "0.8633333333333333"
      ]
     },
     "execution_count": 52,
     "metadata": {},
     "output_type": "execute_result"
    }
   ],
   "source": [
    "from sklearn.metrics import accuracy_score\n",
    "score= accuracy_score(y_pred, y_test)\n",
    "score"
   ]
  },
  {
   "cell_type": "code",
   "execution_count": null,
   "metadata": {},
   "outputs": [],
   "source": []
  }
 ],
 "metadata": {
  "kernelspec": {
   "display_name": "Python 3",
   "language": "python",
   "name": "python3"
  },
  "language_info": {
   "codemirror_mode": {
    "name": "ipython",
    "version": 3
   },
   "file_extension": ".py",
   "mimetype": "text/x-python",
   "name": "python",
   "nbconvert_exporter": "python",
   "pygments_lexer": "ipython3",
   "version": "3.7.4"
  }
 },
 "nbformat": 4,
 "nbformat_minor": 2
}
